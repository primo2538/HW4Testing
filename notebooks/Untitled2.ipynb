{
 "cells": [
  {
   "cell_type": "code",
   "execution_count": 24,
   "metadata": {
    "collapsed": true
   },
   "outputs": [],
   "source": [
    "image = ['image/d0.png','image/d1.png','image/d2.png','image/d3.png','image/d4.png','image/d5.png','image/d6.png']"
   ]
  },
  {
   "cell_type": "code",
   "execution_count": 25,
   "metadata": {
    "collapsed": false
   },
   "outputs": [
    {
     "data": {
      "image/png": "[encoded data removed]",
      "text/plain": [
       "<IPython.core.display.Image object>"
      ]
     },
     "execution_count": 25,
     "metadata": {},
     "output_type": "execute_result"
    }
   ],
   "source": [
    "from IPython.display import Image\n",
    "Image(filename = image[5])"
   ]
  },
  {
   "cell_type": "code",
   "execution_count": 31,
   "metadata": {
    "collapsed": false
   },
   "outputs": [
    {
     "data": {
      "text/html": [
       "<img style = 'width: 100px; margin: 0px; float: left; border:1px solid black;' src=image/d0.png/><img style = 'width: 100px; margin: 0px; float: left; border:1px solid black;' src=image/d1.png/><img style = 'width: 100px; margin: 0px; float: left; border:1px solid black;' src=image/d2.png/><img style = 'width: 100px; margin: 0px; float: left; border:1px solid black;' src=image/d3.png/><img style = 'width: 100px; margin: 0px; float: left; border:1px solid black;' src=image/d4.png/><img style = 'width: 100px; margin: 0px; float: left; border:1px solid black;' src=image/d5.png/><img style = 'width: 100px; margin: 0px; float: left; border:1px solid black;' src=image/d6.png/>"
      ],
      "text/plain": [
       "<IPython.core.display.HTML object>"
      ]
     },
     "metadata": {},
     "output_type": "display_data"
    }
   ],
   "source": [
    "from IPython.display import HTML,display\n",
    "html_string = \"<img style = 'width: 100px; margin: 0px; float: left; border:1px solid black;' src={}/>\"\n",
    "imageList = [html_string.format(str(s)) for s in image]\n",
    "\n",
    "diceImageList = ''.join(imageList)\n",
    "display(HTML(diceImageList))"
   ]
  },
  {
   "cell_type": "code",
   "execution_count": 41,
   "metadata": {
    "collapsed": false
   },
   "outputs": [],
   "source": [
    "from random import randint\n",
    "\n",
    "class Dice(object):\n",
    "    face = 1\n",
    "    def __init__(self):\n",
    "        self.__set_face()\n",
    "    def roll(self):\n",
    "        self.__set_face()\n",
    "        \n",
    " \n",
    "    def __set_face(self):\n",
    "        self.__face = randint(1,6)\n",
    "    \n",
    "    @property\n",
    "    def face(self):\n",
    "        return self.__face"
   ]
  },
  {
   "cell_type": "code",
   "execution_count": 45,
   "metadata": {
    "collapsed": false
   },
   "outputs": [
    {
     "data": {
      "image/png": "[encoded data removed]",
      "text/plain": [
       "<IPython.core.display.Image object>"
      ]
     },
     "execution_count": 45,
     "metadata": {},
     "output_type": "execute_result"
    }
   ],
   "source": [
    "d1=Dice()\n",
    "d1.roll()\n",
    "Image(filename=image[d1.face])"
   ]
  },
  {
   "cell_type": "code",
   "execution_count": 58,
   "metadata": {
    "collapsed": true
   },
   "outputs": [],
   "source": [
    "class HiLo(object):\n",
    "    __d1 = Dice()\n",
    "    __d2 = Dice()\n",
    "    \n",
    "    def __init(self):\n",
    "        __d1.roll()\n",
    "        __d2.roll()\n",
    "    @property\n",
    "    def dice_face(self):\n",
    "        return [image[self.__d1.face],image[self.__d2.face]]\n",
    "    \n",
    "    def _repr(self):\n",
    "        print(\"Dice1 : {},Dice2 : {}\".format(d1.face(),d2.face()))\n",
    "    "
   ]
  },
  {
   "cell_type": "code",
   "execution_count": 87,
   "metadata": {
    "collapsed": false
   },
   "outputs": [
    {
     "data": {
      "image/png": "[encoded data removed]",
      "text/plain": [
       "<IPython.core.display.Image object>"
      ]
     },
     "execution_count": 87,
     "metadata": {},
     "output_type": "execute_result"
    }
   ],
   "source": [
    "d1=Dice()\n",
    "d2=Dice()\n",
    "d1.roll()\n",
    "d2.roll()\n",
    "Image(filename=image[d1.face])"
   ]
  },
  {
   "cell_type": "code",
   "execution_count": 64,
   "metadata": {
    "collapsed": false
   },
   "outputs": [],
   "source": [
    "from IPython.display import HTML,display,Image\n",
    "def showdice(image_List):\n",
    "    html_string =\"<img style = 'width: 100px; margin: 0px; float: left; border:1px solid black;' src={}/>\"\n",
    "    \n",
    "    diceImageList = ''.join([html_string.format(str(s)) for s in image_List])\n",
    "    display(HTML(diceImageList))"
   ]
  },
  {
   "cell_type": "code",
   "execution_count": 93,
   "metadata": {
    "collapsed": false
   },
   "outputs": [
    {
     "data": {
      "text/html": [
       "<img style = 'width: 100px; margin: 0px; float: left; border:1px solid black;' src=image/d5.png/><img style = 'width: 100px; margin: 0px; float: left; border:1px solid black;' src=image/d2.png/>"
      ],
      "text/plain": [
       "<IPython.core.display.HTML object>"
      ]
     },
     "metadata": {},
     "output_type": "display_data"
    }
   ],
   "source": [
    "h=HiLo()\n",
    "showdice(h.dice_face)"
   ]
  },
  {
   "cell_type": "code",
   "execution_count": null,
   "metadata": {
    "collapsed": true
   },
   "outputs": [],
   "source": []
  },
  {
   "cell_type": "code",
   "execution_count": null,
   "metadata": {
    "collapsed": true
   },
   "outputs": [],
   "source": [
    "\n"
   ]
  }
 ],
 "metadata": {
  "kernelspec": {
   "display_name": "Python 3",
   "language": "python",
   "name": "python3"
  },
  "language_info": {
   "codemirror_mode": {
    "name": "ipython",
    "version": 3
   },
   "file_extension": ".py",
   "mimetype": "text/x-python",
   "name": "python",
   "nbconvert_exporter": "python",
   "pygments_lexer": "ipython3",
   "version": "3.4.4"
  }
 },
 "nbformat": 4,
 "nbformat_minor": 0
}
